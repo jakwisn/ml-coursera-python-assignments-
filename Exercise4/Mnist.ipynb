{
 "cells": [
  {
   "cell_type": "code",
   "execution_count": 16,
   "metadata": {},
   "outputs": [],
   "source": [
    "import pandas as pd\n",
    "import numpy as np \n",
    "from scipy import optimize \n",
    "import matplotlib.pyplot as plt \n",
    "import copy"
   ]
  },
  {
   "cell_type": "code",
   "execution_count": 2,
   "metadata": {},
   "outputs": [],
   "source": [
    "train = pd.read_csv(\"/home/kuba/wakacje/machine lerning/train.csv\")"
   ]
  },
  {
   "cell_type": "code",
   "execution_count": 4,
   "metadata": {},
   "outputs": [],
   "source": [
    "train = np.array(train)\n",
    "X = train[:,1:]\n",
    "y = train[:,0]"
   ]
  },
  {
   "cell_type": "code",
   "execution_count": 5,
   "metadata": {},
   "outputs": [
    {
     "data": {
      "image/png": "[encoded data removed]",
      "text/plain": [
       "<Figure size 432x288 with 9 Axes>"
      ]
     },
     "metadata": {
      "needs_background": "light"
     },
     "output_type": "display_data"
    }
   ],
   "source": [
    "# lets see how does it look \n",
    "p = [[0 for i in range(28)]for i in range(28) ]\n",
    "\n",
    "# we randomly choose 9 images \n",
    "rand = np.random.randint(0,28000,9)\n",
    "\n",
    "\n",
    "fig = plt.figure()\n",
    "# which plot\n",
    "k = 0\n",
    "for rand_ind in rand:\n",
    "    \n",
    "    for i in range(27):\n",
    "        pixels = X[rand_ind,::-1]\n",
    "        p[i] = list(pixels[28*i:28*(i+1)])\n",
    "    p = np.fliplr(p)\n",
    "    # 3x3 grid and which plot\n",
    "    fig.add_subplot(331 + k)\n",
    "    k += 1\n",
    "    plt.imshow(p, 'gray', origin='lower',interpolation='none')\n",
    "\n",
    "plt.show()"
   ]
  },
  {
   "cell_type": "code",
   "execution_count": 6,
   "metadata": {},
   "outputs": [],
   "source": [
    "# Let's choose architecture for our NN\n",
    "\n",
    "# input layer\n",
    "L1 = X.shape[1]\n",
    "#hidden layers: \n",
    "L2 = 25\n",
    "L3 = 25\n",
    "# output layer \n",
    "L4 = 10\n",
    "\n",
    "eps = np.sqrt(6)/np.sqrt(L1 + L4)\n",
    "size = (L1+1)*L2 + (L2+1)*L3 + (L3+1)*L4\n",
    "thetas = np.random.uniform(-eps,eps,size)"
   ]
  },
  {
   "cell_type": "code",
   "execution_count": 7,
   "metadata": {},
   "outputs": [],
   "source": [
    "def sigmoid(z): \n",
    "    return 1/(1+np.exp(-z))"
   ]
  },
  {
   "cell_type": "code",
   "execution_count": 13,
   "metadata": {},
   "outputs": [],
   "source": [
    "# Let's make cost function\n",
    "def CostFunction(thetas, L1, L2, L3, L4, X, y , lambda_ = 0.0): \n",
    "    \"\"\"\n",
    "    thetas - numpy list of parameters, expected random\n",
    "    L1, ..., L4 - layer sizes\n",
    "    X, y - Data numpy nd arrays\n",
    "    \"\"\"\n",
    "    # firstly we roll out thetas to matrices of layer parameters, \n",
    "    downfrom, upto = 0, (L1+1)*L2\n",
    "    theta1 = thetas[downfrom:upto].reshape(L1+1,L2)\n",
    "    downfrom, upto = upto, upto + (L2+1)*L3\n",
    "    theta2 = thetas[downfrom:upto].reshape(L2+1,L3)\n",
    "    downfrom, upto = upto, 0\n",
    "    theta3 = thetas[downfrom:].reshape(L3+1,L4)\n",
    "    \n",
    "    # size of dataset\n",
    "    m = y.size\n",
    "    \n",
    "    # future gradients\n",
    "    Theta1_grad = np.zeros((theta1.shape))\n",
    "    Theta2_grad = np.zeros((theta2.shape))\n",
    "    Theta3_grad = np.zeros((theta3.shape))\n",
    "    \n",
    "    # changing y to vector \n",
    "    y_vec = np.zeros((m,L4))\n",
    "    for i in range(m): \n",
    "        y_vec[i,y[i]] = 1\n",
    "    \n",
    "    # forward Propagation \n",
    "\n",
    "    a1 = np.c_[np.ones((m,1)),X]   # m x n+1\n",
    "\n",
    "    a2 = sigmoid( a1 @ theta1) \n",
    "    a2 = np.c_[np.ones((m,1)),a2]\n",
    "\n",
    "    a3 = sigmoid( a2 @ theta2) \n",
    "    a3 = np.c_[np.ones((m,1)),a3]\n",
    "\n",
    "    a4 = sigmoid( a3 @ theta3)\n",
    "\n",
    "    # value of cost is not vectorized because of memory reasons\n",
    "    J = 0\n",
    "    for i in range(m) :\n",
    "        J += (1/m)* (np.log(a4[i,:]) @ (-y_vec[i,:]).T - (np.log(1 - a4[i,:])) @ (1 - y_vec[i,:]).T)    \n",
    "\n",
    "    # without biases\n",
    "    t1 = theta1[:, 1:]\n",
    "    t2 = theta2[:, 1:]\n",
    "    t3 = theta3[:, 1:]\n",
    "    reg = lambda_/(2*m) *( (t1**2).sum() + (t2**2).sum() + (t3**2).sum())  \n",
    "\n",
    "    J = J + reg\n",
    "\n",
    "    #backpropagation\n",
    "\n",
    "    err4 = a4 - y_vec \n",
    "\n",
    "    #derivative of sigmoid is ai*(1-ai)\n",
    "    err3 = (err4 @ theta3.T) * (a3*(1-a3))    #42000x10 @ 10x26 * 42000x26\n",
    "    # without bias\n",
    "    err3 = err3[:,1:]\n",
    "\n",
    "    err2 = (err3 @ theta2.T) * (a2*(1-a2))\n",
    "    err2 = err2[:,1:]\n",
    "\n",
    "    delta1 = a1.T @ err2\n",
    "    delta2 = a2.T @ err3 \n",
    "    delta3 = a3.T @ err4\n",
    "\n",
    "    d1 = lambda_/m * theta1[:,1:]\n",
    "    d2 = lambda_/m * theta2[:,1:]\n",
    "    d3 = lambda_/m * theta3[:,1:]\n",
    "\n",
    "    Theta1_grad = delta1/m\n",
    "    Theta2_grad = delta2/m    \n",
    "    Theta3_grad = delta3/m\n",
    "\n",
    "    Theta1_grad[:,1:] += d1\n",
    "    Theta2_grad[:,1:] += d2\n",
    "    Theta3_grad[:,1:] += d3\n",
    "\n",
    "    return J, np.concatenate([Theta1_grad.ravel(), Theta2_grad.ravel(), Theta3_grad.ravel()])"
   ]
  },
  {
   "cell_type": "code",
   "execution_count": null,
   "metadata": {},
   "outputs": [],
   "source": [
    "def gradient_analitical(thetas, X,y): "
   ]
  },
  {
   "cell_type": "code",
   "execution_count": null,
   "metadata": {},
   "outputs": [],
   "source": [
    "# let's chceck if we have non-buggy implementation\n",
    "J, grad = CostFunction(thetas, L1, L2,L3,L4,X,y)\n",
    "m = grad.size\n",
    "grad2 = np.zeros(m)\n",
    "\n",
    "epsilon = 0.0001\n",
    "\n",
    "for i in range(m): \n",
    "    thetas_1 = copy.copy(thetas)\n",
    "    thetas_2 = copy.copy(thetas)\n",
    "    thetas_1[i] -= epsilon\n",
    "    thetas_2[i] -= epsilon\n",
    "\n",
    "    grad2[i] = (CostFunction(thetas_1, L1, L2,L3,L4,X,y)[0] - CostFunction(thetas_2, L1, L2,L3,L4,X,y)[0])/(2*epsilon) "
   ]
  },
  {
   "cell_type": "code",
   "execution_count": null,
   "metadata": {},
   "outputs": [],
   "source": [
    "\n",
    "\n",
    "a1 = np.c_[np.ones((m,1)),X]   # m x n+1\n",
    "\n",
    "a2 = sigmoid( a1 @ theta1) \n",
    "a2 = np.c_[np.ones((m,1)),a2]\n",
    "\n",
    "a3 = sigmoid( a2 @ theta2) \n",
    "a3 = np.c_[np.ones((m,1)),a3]\n",
    "\n",
    "a4 = sigmoid( a3 @ theta3)\n",
    "\n",
    "# value of cost is not vectorized because of memory reasons\n",
    "J = 0\n",
    "for i in range(m) :\n",
    "    J += (1/m)* (np.log(a4[i,:]) @ (-y_vec[i,:]).T - (np.log(1 - a4[i,:])) @ (1 - y_vec[i,:]).T)    \n",
    "\n",
    "# without biases\n",
    "t1 = theta1[:, 1:]\n",
    "t2 = theta2[:, 1:]\n",
    "t3 = theta3[:, 1:]\n",
    "reg = lambda_/(2*m) *( (t1**2).sum() + (t2**2).sum() + (t3**2).sum())  \n",
    "\n",
    "J = J + reg\n",
    "\n",
    "#backpropagation\n",
    "\n",
    "err4 = a4 - y_vec \n",
    "\n",
    "#derivative of sigmoid is ai*(1-ai)\n",
    "err3 = (err4 @ theta3.T) * (a3*(1-a3))    #42000x10 @ 10x26 * 42000x26\n",
    "# without bias\n",
    "err3 = err3[:,1:]\n",
    "\n",
    "err2 = (err3 @ theta2.T) * (a2*(1-a2))\n",
    "err2 = err2[:,1:]\n",
    "\n",
    "delta1 = a1.T @ err2\n",
    "delta2 = a2.T @ err3 \n",
    "delta3 = a3.T @ err4\n",
    "\n",
    "d1 = lambda_/m * theta1[:,1:]\n",
    "d2 = lambda_/m * theta2[:,1:]\n",
    "d3 = lambda_/m * theta3[:,1:]\n",
    "\n",
    "Theta1_grad = delta1/m\n",
    "Theta2_grad = delta2/m    \n",
    "Theta3_grad = delta3/m\n",
    "\n",
    "Theta1_grad[:,1:] += d1\n",
    "Theta2_grad[:,1:] += d2\n",
    "Theta3_grad[:,1:] += d3\n",
    "\n",
    "\n",
    "gradd = np.concatenate([Theta1_grad.ravel(), Theta2_grad.ravel(), Theta3_grad.ravel()])\n",
    "gradd"
   ]
  }
 ],
 "metadata": {
  "kernelspec": {
   "display_name": "Python 3",
   "language": "python",
   "name": "python3"
  },
  "language_info": {
   "codemirror_mode": {
    "name": "ipython",
    "version": 3
   },
   "file_extension": ".py",
   "mimetype": "text/x-python",
   "name": "python",
   "nbconvert_exporter": "python",
   "pygments_lexer": "ipython3",
   "version": "3.7.1"
  }
 },
 "nbformat": 4,
 "nbformat_minor": 2
}
